{
 "cells": [
  {
   "cell_type": "code",
   "execution_count": 1,
   "id": "cc1cf3b6",
   "metadata": {},
   "outputs": [],
   "source": [
    "import pandas as pd"
   ]
  },
  {
   "cell_type": "code",
   "execution_count": 2,
   "id": "d7b866b0",
   "metadata": {},
   "outputs": [
    {
     "data": {
      "text/html": [
       "<div>\n",
       "<style scoped>\n",
       "    .dataframe tbody tr th:only-of-type {\n",
       "        vertical-align: middle;\n",
       "    }\n",
       "\n",
       "    .dataframe tbody tr th {\n",
       "        vertical-align: top;\n",
       "    }\n",
       "\n",
       "    .dataframe thead th {\n",
       "        text-align: right;\n",
       "    }\n",
       "</style>\n",
       "<table border=\"1\" class=\"dataframe\">\n",
       "  <thead>\n",
       "    <tr style=\"text-align: right;\">\n",
       "      <th></th>\n",
       "      <th>1x</th>\n",
       "      <th>1y</th>\n",
       "      <th>2x</th>\n",
       "      <th>2y</th>\n",
       "      <th>3x</th>\n",
       "      <th>3y</th>\n",
       "      <th>4x</th>\n",
       "      <th>4y</th>\n",
       "      <th>5x</th>\n",
       "      <th>5y</th>\n",
       "      <th>...</th>\n",
       "      <th>17y</th>\n",
       "      <th>18x</th>\n",
       "      <th>18y</th>\n",
       "      <th>19x</th>\n",
       "      <th>19y</th>\n",
       "      <th>20x</th>\n",
       "      <th>20y</th>\n",
       "      <th>21x</th>\n",
       "      <th>21y</th>\n",
       "      <th>target</th>\n",
       "    </tr>\n",
       "  </thead>\n",
       "  <tbody>\n",
       "    <tr>\n",
       "      <th>0</th>\n",
       "      <td>0.972548</td>\n",
       "      <td>0.503541</td>\n",
       "      <td>0.888238</td>\n",
       "      <td>0.670902</td>\n",
       "      <td>0.766331</td>\n",
       "      <td>0.698617</td>\n",
       "      <td>0.688033</td>\n",
       "      <td>0.595593</td>\n",
       "      <td>0.653848</td>\n",
       "      <td>0.487888</td>\n",
       "      <td>...</td>\n",
       "      <td>0.439262</td>\n",
       "      <td>0.785297</td>\n",
       "      <td>0.249039</td>\n",
       "      <td>0.682782</td>\n",
       "      <td>0.291712</td>\n",
       "      <td>0.707206</td>\n",
       "      <td>0.337388</td>\n",
       "      <td>0.752084</td>\n",
       "      <td>0.343444</td>\n",
       "      <td>2</td>\n",
       "    </tr>\n",
       "    <tr>\n",
       "      <th>1</th>\n",
       "      <td>0.883314</td>\n",
       "      <td>0.585556</td>\n",
       "      <td>0.758897</td>\n",
       "      <td>0.738274</td>\n",
       "      <td>0.619175</td>\n",
       "      <td>0.731899</td>\n",
       "      <td>0.540562</td>\n",
       "      <td>0.609661</td>\n",
       "      <td>0.514005</td>\n",
       "      <td>0.497798</td>\n",
       "      <td>...</td>\n",
       "      <td>0.516720</td>\n",
       "      <td>0.639559</td>\n",
       "      <td>0.312580</td>\n",
       "      <td>0.554995</td>\n",
       "      <td>0.351059</td>\n",
       "      <td>0.577250</td>\n",
       "      <td>0.405897</td>\n",
       "      <td>0.619907</td>\n",
       "      <td>0.421913</td>\n",
       "      <td>2</td>\n",
       "    </tr>\n",
       "    <tr>\n",
       "      <th>2</th>\n",
       "      <td>0.910765</td>\n",
       "      <td>0.598994</td>\n",
       "      <td>0.836391</td>\n",
       "      <td>0.407034</td>\n",
       "      <td>0.722001</td>\n",
       "      <td>0.359720</td>\n",
       "      <td>0.642534</td>\n",
       "      <td>0.440818</td>\n",
       "      <td>0.602230</td>\n",
       "      <td>0.552093</td>\n",
       "      <td>...</td>\n",
       "      <td>0.562702</td>\n",
       "      <td>0.660576</td>\n",
       "      <td>0.772937</td>\n",
       "      <td>0.619692</td>\n",
       "      <td>0.700938</td>\n",
       "      <td>0.657051</td>\n",
       "      <td>0.666762</td>\n",
       "      <td>0.697424</td>\n",
       "      <td>0.658073</td>\n",
       "      <td>2</td>\n",
       "    </tr>\n",
       "    <tr>\n",
       "      <th>3</th>\n",
       "      <td>0.942804</td>\n",
       "      <td>0.452263</td>\n",
       "      <td>0.843116</td>\n",
       "      <td>0.593405</td>\n",
       "      <td>0.718336</td>\n",
       "      <td>0.579437</td>\n",
       "      <td>0.654337</td>\n",
       "      <td>0.451111</td>\n",
       "      <td>0.632054</td>\n",
       "      <td>0.341280</td>\n",
       "      <td>...</td>\n",
       "      <td>0.299582</td>\n",
       "      <td>0.769897</td>\n",
       "      <td>0.152735</td>\n",
       "      <td>0.655527</td>\n",
       "      <td>0.150431</td>\n",
       "      <td>0.675466</td>\n",
       "      <td>0.203113</td>\n",
       "      <td>0.716827</td>\n",
       "      <td>0.225120</td>\n",
       "      <td>2</td>\n",
       "    </tr>\n",
       "    <tr>\n",
       "      <th>4</th>\n",
       "      <td>0.916129</td>\n",
       "      <td>0.525466</td>\n",
       "      <td>0.825934</td>\n",
       "      <td>0.410975</td>\n",
       "      <td>0.722051</td>\n",
       "      <td>0.406688</td>\n",
       "      <td>0.660051</td>\n",
       "      <td>0.489497</td>\n",
       "      <td>0.622740</td>\n",
       "      <td>0.590304</td>\n",
       "      <td>...</td>\n",
       "      <td>0.635309</td>\n",
       "      <td>0.720663</td>\n",
       "      <td>0.833326</td>\n",
       "      <td>0.715275</td>\n",
       "      <td>0.790811</td>\n",
       "      <td>0.755227</td>\n",
       "      <td>0.748631</td>\n",
       "      <td>0.783695</td>\n",
       "      <td>0.725269</td>\n",
       "      <td>2</td>\n",
       "    </tr>\n",
       "  </tbody>\n",
       "</table>\n",
       "<p>5 rows × 43 columns</p>\n",
       "</div>"
      ],
      "text/plain": [
       "         1x        1y        2x        2y        3x        3y        4x  \\\n",
       "0  0.972548  0.503541  0.888238  0.670902  0.766331  0.698617  0.688033   \n",
       "1  0.883314  0.585556  0.758897  0.738274  0.619175  0.731899  0.540562   \n",
       "2  0.910765  0.598994  0.836391  0.407034  0.722001  0.359720  0.642534   \n",
       "3  0.942804  0.452263  0.843116  0.593405  0.718336  0.579437  0.654337   \n",
       "4  0.916129  0.525466  0.825934  0.410975  0.722051  0.406688  0.660051   \n",
       "\n",
       "         4y        5x        5y  ...       17y       18x       18y       19x  \\\n",
       "0  0.595593  0.653848  0.487888  ...  0.439262  0.785297  0.249039  0.682782   \n",
       "1  0.609661  0.514005  0.497798  ...  0.516720  0.639559  0.312580  0.554995   \n",
       "2  0.440818  0.602230  0.552093  ...  0.562702  0.660576  0.772937  0.619692   \n",
       "3  0.451111  0.632054  0.341280  ...  0.299582  0.769897  0.152735  0.655527   \n",
       "4  0.489497  0.622740  0.590304  ...  0.635309  0.720663  0.833326  0.715275   \n",
       "\n",
       "        19y       20x       20y       21x       21y  target  \n",
       "0  0.291712  0.707206  0.337388  0.752084  0.343444       2  \n",
       "1  0.351059  0.577250  0.405897  0.619907  0.421913       2  \n",
       "2  0.700938  0.657051  0.666762  0.697424  0.658073       2  \n",
       "3  0.150431  0.675466  0.203113  0.716827  0.225120       2  \n",
       "4  0.790811  0.755227  0.748631  0.783695  0.725269       2  \n",
       "\n",
       "[5 rows x 43 columns]"
      ]
     },
     "execution_count": 2,
     "metadata": {},
     "output_type": "execute_result"
    }
   ],
   "source": [
    "df = pd.read_csv('chifoumy/data/chifoumi-dataset.csv')\n",
    "df.head()"
   ]
  },
  {
   "cell_type": "code",
   "execution_count": 3,
   "id": "49b0265c",
   "metadata": {},
   "outputs": [
    {
     "data": {
      "text/plain": [
       "(2049, 43)"
      ]
     },
     "execution_count": 3,
     "metadata": {},
     "output_type": "execute_result"
    }
   ],
   "source": [
    "df.shape"
   ]
  },
  {
   "cell_type": "code",
   "execution_count": 4,
   "id": "87bfde05",
   "metadata": {},
   "outputs": [
    {
     "data": {
      "text/html": [
       "<div>\n",
       "<style scoped>\n",
       "    .dataframe tbody tr th:only-of-type {\n",
       "        vertical-align: middle;\n",
       "    }\n",
       "\n",
       "    .dataframe tbody tr th {\n",
       "        vertical-align: top;\n",
       "    }\n",
       "\n",
       "    .dataframe thead th {\n",
       "        text-align: right;\n",
       "    }\n",
       "</style>\n",
       "<table border=\"1\" class=\"dataframe\">\n",
       "  <thead>\n",
       "    <tr style=\"text-align: right;\">\n",
       "      <th></th>\n",
       "      <th>1x</th>\n",
       "      <th>1y</th>\n",
       "      <th>2x</th>\n",
       "      <th>2y</th>\n",
       "      <th>3x</th>\n",
       "      <th>3y</th>\n",
       "      <th>4x</th>\n",
       "      <th>4y</th>\n",
       "      <th>5x</th>\n",
       "      <th>5y</th>\n",
       "      <th>...</th>\n",
       "      <th>17y</th>\n",
       "      <th>18x</th>\n",
       "      <th>18y</th>\n",
       "      <th>19x</th>\n",
       "      <th>19y</th>\n",
       "      <th>20x</th>\n",
       "      <th>20y</th>\n",
       "      <th>21x</th>\n",
       "      <th>21y</th>\n",
       "      <th>target</th>\n",
       "    </tr>\n",
       "  </thead>\n",
       "  <tbody>\n",
       "    <tr>\n",
       "      <th>count</th>\n",
       "      <td>2049.000000</td>\n",
       "      <td>2049.000000</td>\n",
       "      <td>2049.000000</td>\n",
       "      <td>2049.000000</td>\n",
       "      <td>2049.000000</td>\n",
       "      <td>2049.000000</td>\n",
       "      <td>2049.000000</td>\n",
       "      <td>2049.000000</td>\n",
       "      <td>2049.000000</td>\n",
       "      <td>2049.000000</td>\n",
       "      <td>...</td>\n",
       "      <td>2049.000000</td>\n",
       "      <td>2049.000000</td>\n",
       "      <td>2049.000000</td>\n",
       "      <td>2049.000000</td>\n",
       "      <td>2049.000000</td>\n",
       "      <td>2049.000000</td>\n",
       "      <td>2049.000000</td>\n",
       "      <td>2049.000000</td>\n",
       "      <td>2049.000000</td>\n",
       "      <td>2049.000000</td>\n",
       "    </tr>\n",
       "    <tr>\n",
       "      <th>mean</th>\n",
       "      <td>0.882017</td>\n",
       "      <td>0.492025</td>\n",
       "      <td>0.798510</td>\n",
       "      <td>0.608148</td>\n",
       "      <td>0.674112</td>\n",
       "      <td>0.643569</td>\n",
       "      <td>0.567116</td>\n",
       "      <td>0.621330</td>\n",
       "      <td>0.502557</td>\n",
       "      <td>0.593399</td>\n",
       "      <td>...</td>\n",
       "      <td>0.456958</td>\n",
       "      <td>0.627949</td>\n",
       "      <td>0.365591</td>\n",
       "      <td>0.540699</td>\n",
       "      <td>0.381507</td>\n",
       "      <td>0.533654</td>\n",
       "      <td>0.398570</td>\n",
       "      <td>0.537180</td>\n",
       "      <td>0.401143</td>\n",
       "      <td>1.004880</td>\n",
       "    </tr>\n",
       "    <tr>\n",
       "      <th>std</th>\n",
       "      <td>0.091499</td>\n",
       "      <td>0.125221</td>\n",
       "      <td>0.094683</td>\n",
       "      <td>0.146058</td>\n",
       "      <td>0.101158</td>\n",
       "      <td>0.192730</td>\n",
       "      <td>0.111130</td>\n",
       "      <td>0.197508</td>\n",
       "      <td>0.120820</td>\n",
       "      <td>0.203834</td>\n",
       "      <td>...</td>\n",
       "      <td>0.126941</td>\n",
       "      <td>0.109267</td>\n",
       "      <td>0.236114</td>\n",
       "      <td>0.100592</td>\n",
       "      <td>0.211332</td>\n",
       "      <td>0.120850</td>\n",
       "      <td>0.197042</td>\n",
       "      <td>0.157319</td>\n",
       "      <td>0.195244</td>\n",
       "      <td>0.811884</td>\n",
       "    </tr>\n",
       "    <tr>\n",
       "      <th>min</th>\n",
       "      <td>0.467607</td>\n",
       "      <td>-0.147117</td>\n",
       "      <td>0.458707</td>\n",
       "      <td>-0.070512</td>\n",
       "      <td>0.304918</td>\n",
       "      <td>0.010352</td>\n",
       "      <td>0.157513</td>\n",
       "      <td>0.013287</td>\n",
       "      <td>0.054466</td>\n",
       "      <td>-0.090281</td>\n",
       "      <td>...</td>\n",
       "      <td>0.087641</td>\n",
       "      <td>0.177650</td>\n",
       "      <td>-0.035256</td>\n",
       "      <td>0.082736</td>\n",
       "      <td>-0.033415</td>\n",
       "      <td>0.059194</td>\n",
       "      <td>-0.028786</td>\n",
       "      <td>-0.020457</td>\n",
       "      <td>-0.061911</td>\n",
       "      <td>0.000000</td>\n",
       "    </tr>\n",
       "    <tr>\n",
       "      <th>25%</th>\n",
       "      <td>0.828709</td>\n",
       "      <td>0.415357</td>\n",
       "      <td>0.744916</td>\n",
       "      <td>0.525867</td>\n",
       "      <td>0.614309</td>\n",
       "      <td>0.563649</td>\n",
       "      <td>0.497591</td>\n",
       "      <td>0.504024</td>\n",
       "      <td>0.418720</td>\n",
       "      <td>0.445361</td>\n",
       "      <td>...</td>\n",
       "      <td>0.371936</td>\n",
       "      <td>0.561184</td>\n",
       "      <td>0.215488</td>\n",
       "      <td>0.474720</td>\n",
       "      <td>0.246018</td>\n",
       "      <td>0.441776</td>\n",
       "      <td>0.271980</td>\n",
       "      <td>0.395130</td>\n",
       "      <td>0.273821</td>\n",
       "      <td>0.000000</td>\n",
       "    </tr>\n",
       "    <tr>\n",
       "      <th>50%</th>\n",
       "      <td>0.889993</td>\n",
       "      <td>0.489420</td>\n",
       "      <td>0.800820</td>\n",
       "      <td>0.634368</td>\n",
       "      <td>0.675113</td>\n",
       "      <td>0.700494</td>\n",
       "      <td>0.568609</td>\n",
       "      <td>0.650704</td>\n",
       "      <td>0.500678</td>\n",
       "      <td>0.608632</td>\n",
       "      <td>...</td>\n",
       "      <td>0.439415</td>\n",
       "      <td>0.632708</td>\n",
       "      <td>0.280064</td>\n",
       "      <td>0.534814</td>\n",
       "      <td>0.308624</td>\n",
       "      <td>0.532049</td>\n",
       "      <td>0.338879</td>\n",
       "      <td>0.558578</td>\n",
       "      <td>0.345064</td>\n",
       "      <td>1.000000</td>\n",
       "    </tr>\n",
       "    <tr>\n",
       "      <th>75%</th>\n",
       "      <td>0.943832</td>\n",
       "      <td>0.565252</td>\n",
       "      <td>0.858041</td>\n",
       "      <td>0.707623</td>\n",
       "      <td>0.734638</td>\n",
       "      <td>0.777069</td>\n",
       "      <td>0.633459</td>\n",
       "      <td>0.768354</td>\n",
       "      <td>0.583108</td>\n",
       "      <td>0.755680</td>\n",
       "      <td>...</td>\n",
       "      <td>0.529573</td>\n",
       "      <td>0.695902</td>\n",
       "      <td>0.408150</td>\n",
       "      <td>0.601305</td>\n",
       "      <td>0.420603</td>\n",
       "      <td>0.617025</td>\n",
       "      <td>0.458617</td>\n",
       "      <td>0.654663</td>\n",
       "      <td>0.470131</td>\n",
       "      <td>2.000000</td>\n",
       "    </tr>\n",
       "    <tr>\n",
       "      <th>max</th>\n",
       "      <td>1.140496</td>\n",
       "      <td>1.065905</td>\n",
       "      <td>1.050855</td>\n",
       "      <td>0.957176</td>\n",
       "      <td>0.976205</td>\n",
       "      <td>1.023172</td>\n",
       "      <td>0.952377</td>\n",
       "      <td>1.035136</td>\n",
       "      <td>0.951332</td>\n",
       "      <td>1.121013</td>\n",
       "      <td>...</td>\n",
       "      <td>0.957561</td>\n",
       "      <td>0.968650</td>\n",
       "      <td>1.063550</td>\n",
       "      <td>0.884594</td>\n",
       "      <td>1.078582</td>\n",
       "      <td>0.926034</td>\n",
       "      <td>1.140382</td>\n",
       "      <td>0.958110</td>\n",
       "      <td>1.192943</td>\n",
       "      <td>2.000000</td>\n",
       "    </tr>\n",
       "  </tbody>\n",
       "</table>\n",
       "<p>8 rows × 43 columns</p>\n",
       "</div>"
      ],
      "text/plain": [
       "                1x           1y           2x           2y           3x  \\\n",
       "count  2049.000000  2049.000000  2049.000000  2049.000000  2049.000000   \n",
       "mean      0.882017     0.492025     0.798510     0.608148     0.674112   \n",
       "std       0.091499     0.125221     0.094683     0.146058     0.101158   \n",
       "min       0.467607    -0.147117     0.458707    -0.070512     0.304918   \n",
       "25%       0.828709     0.415357     0.744916     0.525867     0.614309   \n",
       "50%       0.889993     0.489420     0.800820     0.634368     0.675113   \n",
       "75%       0.943832     0.565252     0.858041     0.707623     0.734638   \n",
       "max       1.140496     1.065905     1.050855     0.957176     0.976205   \n",
       "\n",
       "                3y           4x           4y           5x           5y  ...  \\\n",
       "count  2049.000000  2049.000000  2049.000000  2049.000000  2049.000000  ...   \n",
       "mean      0.643569     0.567116     0.621330     0.502557     0.593399  ...   \n",
       "std       0.192730     0.111130     0.197508     0.120820     0.203834  ...   \n",
       "min       0.010352     0.157513     0.013287     0.054466    -0.090281  ...   \n",
       "25%       0.563649     0.497591     0.504024     0.418720     0.445361  ...   \n",
       "50%       0.700494     0.568609     0.650704     0.500678     0.608632  ...   \n",
       "75%       0.777069     0.633459     0.768354     0.583108     0.755680  ...   \n",
       "max       1.023172     0.952377     1.035136     0.951332     1.121013  ...   \n",
       "\n",
       "               17y          18x          18y          19x          19y  \\\n",
       "count  2049.000000  2049.000000  2049.000000  2049.000000  2049.000000   \n",
       "mean      0.456958     0.627949     0.365591     0.540699     0.381507   \n",
       "std       0.126941     0.109267     0.236114     0.100592     0.211332   \n",
       "min       0.087641     0.177650    -0.035256     0.082736    -0.033415   \n",
       "25%       0.371936     0.561184     0.215488     0.474720     0.246018   \n",
       "50%       0.439415     0.632708     0.280064     0.534814     0.308624   \n",
       "75%       0.529573     0.695902     0.408150     0.601305     0.420603   \n",
       "max       0.957561     0.968650     1.063550     0.884594     1.078582   \n",
       "\n",
       "               20x          20y          21x          21y       target  \n",
       "count  2049.000000  2049.000000  2049.000000  2049.000000  2049.000000  \n",
       "mean      0.533654     0.398570     0.537180     0.401143     1.004880  \n",
       "std       0.120850     0.197042     0.157319     0.195244     0.811884  \n",
       "min       0.059194    -0.028786    -0.020457    -0.061911     0.000000  \n",
       "25%       0.441776     0.271980     0.395130     0.273821     0.000000  \n",
       "50%       0.532049     0.338879     0.558578     0.345064     1.000000  \n",
       "75%       0.617025     0.458617     0.654663     0.470131     2.000000  \n",
       "max       0.926034     1.140382     0.958110     1.192943     2.000000  \n",
       "\n",
       "[8 rows x 43 columns]"
      ]
     },
     "execution_count": 4,
     "metadata": {},
     "output_type": "execute_result"
    }
   ],
   "source": [
    "df.describe()"
   ]
  },
  {
   "cell_type": "code",
   "execution_count": 5,
   "id": "d6c46a4b",
   "metadata": {},
   "outputs": [],
   "source": [
    "data = df.copy()"
   ]
  },
  {
   "cell_type": "code",
   "execution_count": 6,
   "id": "aa691d1e",
   "metadata": {},
   "outputs": [],
   "source": [
    "X = data.drop('target', axis = 1)\n",
    "y = data['target']"
   ]
  },
  {
   "cell_type": "code",
   "execution_count": 7,
   "id": "ab1b71e2",
   "metadata": {},
   "outputs": [],
   "source": [
    "from sklearn.preprocessing import MinMaxScaler\n",
    "X_scaled = MinMaxScaler().fit_transform(X)"
   ]
  },
  {
   "cell_type": "code",
   "execution_count": 8,
   "id": "71153611",
   "metadata": {},
   "outputs": [
    {
     "data": {
      "text/plain": [
       "0.3333333333333333"
      ]
     },
     "execution_count": 8,
     "metadata": {},
     "output_type": "execute_result"
    }
   ],
   "source": [
    "baseline_score = 1/3\n",
    "baseline_score"
   ]
  },
  {
   "cell_type": "code",
   "execution_count": 9,
   "id": "26f74aa7",
   "metadata": {},
   "outputs": [],
   "source": [
    "from sklearn.model_selection import train_test_split, cross_validate\n",
    "X_train, X_test, y_train, y_test = train_test_split(X_scaled, y, test_size = 0.3)"
   ]
  },
  {
   "cell_type": "code",
   "execution_count": 10,
   "id": "76bc1d36",
   "metadata": {},
   "outputs": [],
   "source": [
    "from sklearn.dummy import DummyClassifier\n",
    "model_dummy = DummyClassifier()"
   ]
  },
  {
   "cell_type": "code",
   "execution_count": 11,
   "id": "6bd105f7",
   "metadata": {},
   "outputs": [],
   "source": [
    "base_scores = cross_validate(model_dummy, X_train, y_train, cv = 5, scoring = 'accuracy')"
   ]
  },
  {
   "cell_type": "code",
   "execution_count": 12,
   "id": "2b69f855",
   "metadata": {},
   "outputs": [
    {
     "data": {
      "text/plain": [
       "0.33612241417119465"
      ]
     },
     "execution_count": 12,
     "metadata": {},
     "output_type": "execute_result"
    }
   ],
   "source": [
    "base_scores['test_score'].mean()"
   ]
  },
  {
   "cell_type": "code",
   "execution_count": 13,
   "id": "b232c90b",
   "metadata": {},
   "outputs": [],
   "source": [
    "from sklearn.neighbors import KNeighborsClassifier\n",
    "model_knn = KNeighborsClassifier()"
   ]
  },
  {
   "cell_type": "code",
   "execution_count": 14,
   "id": "3dac917e",
   "metadata": {},
   "outputs": [
    {
     "data": {
      "text/plain": [
       "{'fit_time': array([0.00035715, 0.00031805, 0.00026011, 0.00023603, 0.00029707]),\n",
       " 'score_time': array([0.03486085, 0.0049448 , 0.00418186, 0.00471497, 0.00457883]),\n",
       " 'test_score': array([0.99651568, 0.99651568, 0.99651568, 0.99651568, 0.9965035 ])}"
      ]
     },
     "execution_count": 14,
     "metadata": {},
     "output_type": "execute_result"
    }
   ],
   "source": [
    "base_knn = cross_validate(model_knn,X_train, y_train, cv = 5, scoring = 'accuracy')\n",
    "base_knn"
   ]
  },
  {
   "cell_type": "code",
   "execution_count": 15,
   "id": "15b05459",
   "metadata": {},
   "outputs": [
    {
     "data": {
      "text/plain": [
       "0.9965132428547063"
      ]
     },
     "execution_count": 15,
     "metadata": {},
     "output_type": "execute_result"
    }
   ],
   "source": [
    "base_knn['test_score'].mean()"
   ]
  },
  {
   "cell_type": "code",
   "execution_count": 16,
   "id": "b47c8f4f",
   "metadata": {
    "scrolled": true
   },
   "outputs": [
    {
     "name": "stdout",
     "output_type": "stream",
     "text": [
      "CPU times: user 129 ms, sys: 153 ms, total: 282 ms\n",
      "Wall time: 1.55 s\n"
     ]
    },
    {
     "data": {
      "text/html": [
       "<style>#sk-container-id-1 {color: black;background-color: white;}#sk-container-id-1 pre{padding: 0;}#sk-container-id-1 div.sk-toggleable {background-color: white;}#sk-container-id-1 label.sk-toggleable__label {cursor: pointer;display: block;width: 100%;margin-bottom: 0;padding: 0.3em;box-sizing: border-box;text-align: center;}#sk-container-id-1 label.sk-toggleable__label-arrow:before {content: \"▸\";float: left;margin-right: 0.25em;color: #696969;}#sk-container-id-1 label.sk-toggleable__label-arrow:hover:before {color: black;}#sk-container-id-1 div.sk-estimator:hover label.sk-toggleable__label-arrow:before {color: black;}#sk-container-id-1 div.sk-toggleable__content {max-height: 0;max-width: 0;overflow: hidden;text-align: left;background-color: #f0f8ff;}#sk-container-id-1 div.sk-toggleable__content pre {margin: 0.2em;color: black;border-radius: 0.25em;background-color: #f0f8ff;}#sk-container-id-1 input.sk-toggleable__control:checked~div.sk-toggleable__content {max-height: 200px;max-width: 100%;overflow: auto;}#sk-container-id-1 input.sk-toggleable__control:checked~label.sk-toggleable__label-arrow:before {content: \"▾\";}#sk-container-id-1 div.sk-estimator input.sk-toggleable__control:checked~label.sk-toggleable__label {background-color: #d4ebff;}#sk-container-id-1 div.sk-label input.sk-toggleable__control:checked~label.sk-toggleable__label {background-color: #d4ebff;}#sk-container-id-1 input.sk-hidden--visually {border: 0;clip: rect(1px 1px 1px 1px);clip: rect(1px, 1px, 1px, 1px);height: 1px;margin: -1px;overflow: hidden;padding: 0;position: absolute;width: 1px;}#sk-container-id-1 div.sk-estimator {font-family: monospace;background-color: #f0f8ff;border: 1px dotted black;border-radius: 0.25em;box-sizing: border-box;margin-bottom: 0.5em;}#sk-container-id-1 div.sk-estimator:hover {background-color: #d4ebff;}#sk-container-id-1 div.sk-parallel-item::after {content: \"\";width: 100%;border-bottom: 1px solid gray;flex-grow: 1;}#sk-container-id-1 div.sk-label:hover label.sk-toggleable__label {background-color: #d4ebff;}#sk-container-id-1 div.sk-serial::before {content: \"\";position: absolute;border-left: 1px solid gray;box-sizing: border-box;top: 0;bottom: 0;left: 50%;z-index: 0;}#sk-container-id-1 div.sk-serial {display: flex;flex-direction: column;align-items: center;background-color: white;padding-right: 0.2em;padding-left: 0.2em;position: relative;}#sk-container-id-1 div.sk-item {position: relative;z-index: 1;}#sk-container-id-1 div.sk-parallel {display: flex;align-items: stretch;justify-content: center;background-color: white;position: relative;}#sk-container-id-1 div.sk-item::before, #sk-container-id-1 div.sk-parallel-item::before {content: \"\";position: absolute;border-left: 1px solid gray;box-sizing: border-box;top: 0;bottom: 0;left: 50%;z-index: -1;}#sk-container-id-1 div.sk-parallel-item {display: flex;flex-direction: column;z-index: 1;position: relative;background-color: white;}#sk-container-id-1 div.sk-parallel-item:first-child::after {align-self: flex-end;width: 50%;}#sk-container-id-1 div.sk-parallel-item:last-child::after {align-self: flex-start;width: 50%;}#sk-container-id-1 div.sk-parallel-item:only-child::after {width: 0;}#sk-container-id-1 div.sk-dashed-wrapped {border: 1px dashed gray;margin: 0 0.4em 0.5em 0.4em;box-sizing: border-box;padding-bottom: 0.4em;background-color: white;}#sk-container-id-1 div.sk-label label {font-family: monospace;font-weight: bold;display: inline-block;line-height: 1.2em;}#sk-container-id-1 div.sk-label-container {text-align: center;}#sk-container-id-1 div.sk-container {/* jupyter's `normalize.less` sets `[hidden] { display: none; }` but bootstrap.min.css set `[hidden] { display: none !important; }` so we also need the `!important` here to be able to override the default hidden behavior on the sphinx rendered scikit-learn.org. See: https://github.com/scikit-learn/scikit-learn/issues/21755 */display: inline-block !important;position: relative;}#sk-container-id-1 div.sk-text-repr-fallback {display: none;}</style><div id=\"sk-container-id-1\" class=\"sk-top-container\"><div class=\"sk-text-repr-fallback\"><pre>RandomizedSearchCV(cv=5, estimator=KNeighborsClassifier(), n_jobs=-1,\n",
       "                   param_distributions={&#x27;n_neighbors&#x27;: [1, 2, 3, 4, 5],\n",
       "                                        &#x27;p&#x27;: [1, 2]},\n",
       "                   scoring=&#x27;accuracy&#x27;)</pre><b>In a Jupyter environment, please rerun this cell to show the HTML representation or trust the notebook. <br />On GitHub, the HTML representation is unable to render, please try loading this page with nbviewer.org.</b></div><div class=\"sk-container\" hidden><div class=\"sk-item sk-dashed-wrapped\"><div class=\"sk-label-container\"><div class=\"sk-label sk-toggleable\"><input class=\"sk-toggleable__control sk-hidden--visually\" id=\"sk-estimator-id-1\" type=\"checkbox\" ><label for=\"sk-estimator-id-1\" class=\"sk-toggleable__label sk-toggleable__label-arrow\">RandomizedSearchCV</label><div class=\"sk-toggleable__content\"><pre>RandomizedSearchCV(cv=5, estimator=KNeighborsClassifier(), n_jobs=-1,\n",
       "                   param_distributions={&#x27;n_neighbors&#x27;: [1, 2, 3, 4, 5],\n",
       "                                        &#x27;p&#x27;: [1, 2]},\n",
       "                   scoring=&#x27;accuracy&#x27;)</pre></div></div></div><div class=\"sk-parallel\"><div class=\"sk-parallel-item\"><div class=\"sk-item\"><div class=\"sk-label-container\"><div class=\"sk-label sk-toggleable\"><input class=\"sk-toggleable__control sk-hidden--visually\" id=\"sk-estimator-id-2\" type=\"checkbox\" ><label for=\"sk-estimator-id-2\" class=\"sk-toggleable__label sk-toggleable__label-arrow\">estimator: KNeighborsClassifier</label><div class=\"sk-toggleable__content\"><pre>KNeighborsClassifier()</pre></div></div></div><div class=\"sk-serial\"><div class=\"sk-item\"><div class=\"sk-estimator sk-toggleable\"><input class=\"sk-toggleable__control sk-hidden--visually\" id=\"sk-estimator-id-3\" type=\"checkbox\" ><label for=\"sk-estimator-id-3\" class=\"sk-toggleable__label sk-toggleable__label-arrow\">KNeighborsClassifier</label><div class=\"sk-toggleable__content\"><pre>KNeighborsClassifier()</pre></div></div></div></div></div></div></div></div></div></div>"
      ],
      "text/plain": [
       "RandomizedSearchCV(cv=5, estimator=KNeighborsClassifier(), n_jobs=-1,\n",
       "                   param_distributions={'n_neighbors': [1, 2, 3, 4, 5],\n",
       "                                        'p': [1, 2]},\n",
       "                   scoring='accuracy')"
      ]
     },
     "execution_count": 16,
     "metadata": {},
     "output_type": "execute_result"
    }
   ],
   "source": [
    "%%time\n",
    "from sklearn.model_selection import RandomizedSearchCV\n",
    "from scipy import stats\n",
    "\n",
    "# Instanciate model\n",
    "model = model_knn\n",
    "\n",
    "# Hyperparameter search space\n",
    "search_space = {\n",
    "    'n_neighbors': [1, 2, 3, 4, 5],\n",
    "    'p': [1, 2]\n",
    "}\n",
    "\n",
    "# Instanciate Random Search\n",
    "rsearch = RandomizedSearchCV(\n",
    "    model, search_space,\n",
    "    n_jobs=-1, scoring='accuracy', cv=5, n_iter=10, verbose=0)\n",
    "\n",
    "\n",
    "rsearch.fit(X_scaled,y)"
   ]
  },
  {
   "cell_type": "code",
   "execution_count": 17,
   "id": "e2f0b1dc",
   "metadata": {
    "scrolled": true
   },
   "outputs": [
    {
     "data": {
      "text/plain": [
       "{'p': 2, 'n_neighbors': 1}"
      ]
     },
     "execution_count": 17,
     "metadata": {},
     "output_type": "execute_result"
    }
   ],
   "source": [
    "rsearch.best_params_"
   ]
  },
  {
   "cell_type": "code",
   "execution_count": 18,
   "id": "4e748856",
   "metadata": {},
   "outputs": [
    {
     "data": {
      "image/png": "[encoded data removed]",
      "text/plain": [
       "<Figure size 1000x600 with 1 Axes>"
      ]
     },
     "metadata": {},
     "output_type": "display_data"
    }
   ],
   "source": [
    "import numpy as np\n",
    "from sklearn.model_selection import learning_curve\n",
    "import matplotlib.pyplot as plt\n",
    "# create the training size slices\n",
    "train_sizes = np.linspace(1,1464, num = 1000, dtype='int')\n",
    "\n",
    "# Get train scores, train sizes, and validation scores using `learning_curve`, r2 score\n",
    "train_sizes, train_scores, test_scores = learning_curve(estimator = KNeighborsClassifier(n_neighbors = 1, p=2),\n",
    "                                                              X = X_scaled, \n",
    "                                                              y = y,\n",
    "                                                        scoring = 'accuracy',\n",
    "                                                             train_sizes = train_sizes, \n",
    "                                                              cv = 5)\n",
    "\n",
    "# Take the mean of cross-validated train scores and validation scores\n",
    "train_scores_mean = np.mean(train_scores, axis=1)\n",
    "test_scores_mean = np.mean(test_scores, axis=1)\n",
    "\n",
    "# Plot the learning curves!\n",
    "plt.figure(figsize=(10,6))\n",
    "plt.plot(train_sizes, train_scores_mean, label = 'training score')\n",
    "plt.plot(train_sizes, test_scores_mean, label = 'test score')\n",
    "plt.ylabel('accuracy', fontsize = 14)\n",
    "plt.xlabel('Training set size', fontsize = 14)\n",
    "plt.title('Learning curves', fontsize = 18, y = 1.03)\n",
    "plt.legend();"
   ]
  },
  {
   "cell_type": "code",
   "execution_count": 19,
   "id": "3ecad823",
   "metadata": {},
   "outputs": [
    {
     "name": "stdout",
     "output_type": "stream",
     "text": [
      "CPU times: user 47.2 ms, sys: 24.4 ms, total: 71.6 ms\n",
      "Wall time: 11.7 ms\n"
     ]
    }
   ],
   "source": [
    "%%time\n",
    "model_knn = KNeighborsClassifier(n_neighbors = 1, p=2)\n",
    "model_knn.fit(X_train, y_train)\n",
    "y_pred = model_knn.predict(X_test)"
   ]
  },
  {
   "cell_type": "code",
   "execution_count": 20,
   "id": "502c1405",
   "metadata": {},
   "outputs": [
    {
     "data": {
      "text/html": [
       "<div>\n",
       "<style scoped>\n",
       "    .dataframe tbody tr th:only-of-type {\n",
       "        vertical-align: middle;\n",
       "    }\n",
       "\n",
       "    .dataframe tbody tr th {\n",
       "        vertical-align: top;\n",
       "    }\n",
       "\n",
       "    .dataframe thead th {\n",
       "        text-align: right;\n",
       "    }\n",
       "</style>\n",
       "<table border=\"1\" class=\"dataframe\">\n",
       "  <thead>\n",
       "    <tr style=\"text-align: right;\">\n",
       "      <th>predicted</th>\n",
       "      <th>0</th>\n",
       "      <th>1</th>\n",
       "      <th>2</th>\n",
       "    </tr>\n",
       "    <tr>\n",
       "      <th>actual</th>\n",
       "      <th></th>\n",
       "      <th></th>\n",
       "      <th></th>\n",
       "    </tr>\n",
       "  </thead>\n",
       "  <tbody>\n",
       "    <tr>\n",
       "      <th>0</th>\n",
       "      <td>198</td>\n",
       "      <td>0</td>\n",
       "      <td>0</td>\n",
       "    </tr>\n",
       "    <tr>\n",
       "      <th>1</th>\n",
       "      <td>0</td>\n",
       "      <td>217</td>\n",
       "      <td>0</td>\n",
       "    </tr>\n",
       "    <tr>\n",
       "      <th>2</th>\n",
       "      <td>0</td>\n",
       "      <td>1</td>\n",
       "      <td>199</td>\n",
       "    </tr>\n",
       "  </tbody>\n",
       "</table>\n",
       "</div>"
      ],
      "text/plain": [
       "predicted    0    1    2\n",
       "actual                  \n",
       "0          198    0    0\n",
       "1            0  217    0\n",
       "2            0    1  199"
      ]
     },
     "execution_count": 20,
     "metadata": {},
     "output_type": "execute_result"
    }
   ],
   "source": [
    "results_df = pd.DataFrame({\"actual\": y_test,\n",
    "                           \"predicted\": y_pred}) #Store results in a dataframe\n",
    "\n",
    "confusion_matrix = pd.crosstab(index= results_df['actual'],\n",
    "                               columns = results_df['predicted'])\n",
    "confusion_matrix"
   ]
  },
  {
   "cell_type": "code",
   "execution_count": 21,
   "id": "86bc5197",
   "metadata": {},
   "outputs": [
    {
     "data": {
      "text/plain": [
       "((615, 42), (615,))"
      ]
     },
     "execution_count": 21,
     "metadata": {},
     "output_type": "execute_result"
    }
   ],
   "source": [
    "X_test.shape, y_test.shape"
   ]
  },
  {
   "cell_type": "code",
   "execution_count": 22,
   "id": "4259af44",
   "metadata": {},
   "outputs": [],
   "source": [
    "score = cross_validate(model_knn, X_train, y_train, scoring='accuracy')"
   ]
  },
  {
   "cell_type": "code",
   "execution_count": 23,
   "id": "5e95300b",
   "metadata": {},
   "outputs": [
    {
     "data": {
      "text/plain": [
       "{'fit_time': array([0.00034404, 0.0002377 , 0.00029516, 0.00023699, 0.00022817]),\n",
       " 'score_time': array([0.00564313, 0.00475693, 0.00406313, 0.00473189, 0.00396585]),\n",
       " 'test_score': array([1.        , 1.        , 1.        , 0.99651568, 1.        ])}"
      ]
     },
     "execution_count": 23,
     "metadata": {},
     "output_type": "execute_result"
    }
   ],
   "source": [
    "score"
   ]
  },
  {
   "cell_type": "code",
   "execution_count": 24,
   "id": "e63ed470",
   "metadata": {},
   "outputs": [
    {
     "data": {
      "text/plain": [
       "0.9993031358885018"
      ]
     },
     "execution_count": 24,
     "metadata": {},
     "output_type": "execute_result"
    }
   ],
   "source": [
    "score['test_score'].mean()"
   ]
  }
 ],
 "metadata": {
  "kernelspec": {
   "display_name": "Python 3 (ipykernel)",
   "language": "python",
   "name": "python3"
  },
  "language_info": {
   "codemirror_mode": {
    "name": "ipython",
    "version": 3
   },
   "file_extension": ".py",
   "mimetype": "text/x-python",
   "name": "python",
   "nbconvert_exporter": "python",
   "pygments_lexer": "ipython3",
   "version": "3.10.6"
  },
  "toc": {
   "base_numbering": 1,
   "nav_menu": {},
   "number_sections": true,
   "sideBar": true,
   "skip_h1_title": false,
   "title_cell": "Table of Contents",
   "title_sidebar": "Contents",
   "toc_cell": false,
   "toc_position": {},
   "toc_section_display": true,
   "toc_window_display": false
  },
  "vscode": {
   "interpreter": {
    "hash": "0c7fb58e30cc909b837b1460b041660da77b995d1ff5b3c722425591f82a6ada"
   }
  }
 },
 "nbformat": 4,
 "nbformat_minor": 5
}
