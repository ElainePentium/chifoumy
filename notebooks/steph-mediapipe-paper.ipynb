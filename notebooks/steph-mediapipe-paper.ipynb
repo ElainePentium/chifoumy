{
 "cells": [
  {
   "cell_type": "code",
   "execution_count": 9,
   "metadata": {},
   "outputs": [],
   "source": [
    "import os\n",
    "import cv2\n",
    "import mediapipe as mp\n",
    "import pandas as pd"
   ]
  },
  {
   "cell_type": "code",
   "execution_count": 4,
   "metadata": {},
   "outputs": [
    {
     "data": {
      "text/plain": [
       "712"
      ]
     },
     "execution_count": 4,
     "metadata": {},
     "output_type": "execute_result"
    }
   ],
   "source": [
    "path = '../raw_data/paper/'\n",
    "paper_image_files = []\n",
    "\n",
    "for filename in os.listdir(path):\n",
    "    f = os.path.join(path, filename)\n",
    "    if os.path.isfile(f):\n",
    "        paper_image_files.append(f)\n",
    "len(paper_image_files)"
   ]
  },
  {
   "cell_type": "code",
   "execution_count": 5,
   "metadata": {},
   "outputs": [
    {
     "name": "stderr",
     "output_type": "stream",
     "text": [
      "INFO: Created TensorFlow Lite XNNPACK delegate for CPU.\n"
     ]
    }
   ],
   "source": [
    "mp_hands = mp.solutions.hands\n",
    "hands_list = []\n",
    "\n",
    "with mp_hands.Hands(static_image_mode=True,\n",
    "                    max_num_hands=2,\n",
    "                    min_detection_confidence=0.5) as hands:\n",
    "    for idx, file in enumerate(paper_image_files):\n",
    "\n",
    "        # image = cv2.flip(cv2.imread(file), 1)\n",
    "        image = cv2.imread(file)\n",
    "        results = hands.process(cv2.cvtColor(image, cv2.COLOR_BGR2RGB))\n",
    "\n",
    "        if not results.multi_hand_landmarks:\n",
    "            continue\n",
    "\n",
    "        for hand_landmarks in results.multi_hand_landmarks:\n",
    "            fingers = {}\n",
    "            for i, finger in enumerate(hand_landmarks.landmark, start=1):\n",
    "                fingers[f'{i}x'] = (finger.x)\n",
    "                fingers[f'{i}y'] = (finger.y)\n",
    "            hands_list.append(fingers)"
   ]
  },
  {
   "cell_type": "code",
   "execution_count": 6,
   "metadata": {},
   "outputs": [
    {
     "data": {
      "text/plain": [
       "(699, 43)"
      ]
     },
     "execution_count": 6,
     "metadata": {},
     "output_type": "execute_result"
    }
   ],
   "source": [
    "paper_df = pd.DataFrame(hands_list)\n",
    "paper_df['target'] = 1\n",
    "paper_df.shape"
   ]
  },
  {
   "cell_type": "code",
   "execution_count": 7,
   "metadata": {},
   "outputs": [
    {
     "data": {
      "text/html": [
       "<div>\n",
       "<style scoped>\n",
       "    .dataframe tbody tr th:only-of-type {\n",
       "        vertical-align: middle;\n",
       "    }\n",
       "\n",
       "    .dataframe tbody tr th {\n",
       "        vertical-align: top;\n",
       "    }\n",
       "\n",
       "    .dataframe thead th {\n",
       "        text-align: right;\n",
       "    }\n",
       "</style>\n",
       "<table border=\"1\" class=\"dataframe\">\n",
       "  <thead>\n",
       "    <tr style=\"text-align: right;\">\n",
       "      <th></th>\n",
       "      <th>1x</th>\n",
       "      <th>1y</th>\n",
       "      <th>2x</th>\n",
       "      <th>2y</th>\n",
       "      <th>3x</th>\n",
       "      <th>3y</th>\n",
       "      <th>4x</th>\n",
       "      <th>4y</th>\n",
       "      <th>5x</th>\n",
       "      <th>5y</th>\n",
       "      <th>...</th>\n",
       "      <th>17y</th>\n",
       "      <th>18x</th>\n",
       "      <th>18y</th>\n",
       "      <th>19x</th>\n",
       "      <th>19y</th>\n",
       "      <th>20x</th>\n",
       "      <th>20y</th>\n",
       "      <th>21x</th>\n",
       "      <th>21y</th>\n",
       "      <th>target</th>\n",
       "    </tr>\n",
       "  </thead>\n",
       "  <tbody>\n",
       "    <tr>\n",
       "      <th>0</th>\n",
       "      <td>0.622052</td>\n",
       "      <td>0.012588</td>\n",
       "      <td>0.648961</td>\n",
       "      <td>0.213876</td>\n",
       "      <td>0.648076</td>\n",
       "      <td>0.398597</td>\n",
       "      <td>0.633459</td>\n",
       "      <td>0.589315</td>\n",
       "      <td>0.639048</td>\n",
       "      <td>0.751942</td>\n",
       "      <td>...</td>\n",
       "      <td>0.272643</td>\n",
       "      <td>0.290899</td>\n",
       "      <td>-0.028862</td>\n",
       "      <td>0.149719</td>\n",
       "      <td>-0.033415</td>\n",
       "      <td>0.059194</td>\n",
       "      <td>-0.028786</td>\n",
       "      <td>-0.020457</td>\n",
       "      <td>-0.019212</td>\n",
       "      <td>1</td>\n",
       "    </tr>\n",
       "    <tr>\n",
       "      <th>1</th>\n",
       "      <td>0.917708</td>\n",
       "      <td>0.638511</td>\n",
       "      <td>0.866453</td>\n",
       "      <td>0.403034</td>\n",
       "      <td>0.756484</td>\n",
       "      <td>0.282239</td>\n",
       "      <td>0.632590</td>\n",
       "      <td>0.262395</td>\n",
       "      <td>0.540806</td>\n",
       "      <td>0.291267</td>\n",
       "      <td>...</td>\n",
       "      <td>0.599142</td>\n",
       "      <td>0.668052</td>\n",
       "      <td>0.773703</td>\n",
       "      <td>0.528159</td>\n",
       "      <td>0.740041</td>\n",
       "      <td>0.445862</td>\n",
       "      <td>0.720120</td>\n",
       "      <td>0.379078</td>\n",
       "      <td>0.701475</td>\n",
       "      <td>1</td>\n",
       "    </tr>\n",
       "    <tr>\n",
       "      <th>2</th>\n",
       "      <td>0.893933</td>\n",
       "      <td>0.591824</td>\n",
       "      <td>0.754646</td>\n",
       "      <td>0.817506</td>\n",
       "      <td>0.611733</td>\n",
       "      <td>0.849150</td>\n",
       "      <td>0.500097</td>\n",
       "      <td>0.771767</td>\n",
       "      <td>0.434114</td>\n",
       "      <td>0.700591</td>\n",
       "      <td>...</td>\n",
       "      <td>0.349713</td>\n",
       "      <td>0.621407</td>\n",
       "      <td>0.310627</td>\n",
       "      <td>0.474501</td>\n",
       "      <td>0.280082</td>\n",
       "      <td>0.382786</td>\n",
       "      <td>0.268786</td>\n",
       "      <td>0.304154</td>\n",
       "      <td>0.250954</td>\n",
       "      <td>1</td>\n",
       "    </tr>\n",
       "    <tr>\n",
       "      <th>3</th>\n",
       "      <td>0.959779</td>\n",
       "      <td>0.602379</td>\n",
       "      <td>0.903449</td>\n",
       "      <td>0.817890</td>\n",
       "      <td>0.780894</td>\n",
       "      <td>0.903157</td>\n",
       "      <td>0.660598</td>\n",
       "      <td>0.871171</td>\n",
       "      <td>0.605007</td>\n",
       "      <td>0.811084</td>\n",
       "      <td>...</td>\n",
       "      <td>0.526375</td>\n",
       "      <td>0.709163</td>\n",
       "      <td>0.408857</td>\n",
       "      <td>0.577349</td>\n",
       "      <td>0.414860</td>\n",
       "      <td>0.494554</td>\n",
       "      <td>0.426942</td>\n",
       "      <td>0.427810</td>\n",
       "      <td>0.433055</td>\n",
       "      <td>1</td>\n",
       "    </tr>\n",
       "    <tr>\n",
       "      <th>4</th>\n",
       "      <td>0.846137</td>\n",
       "      <td>0.352476</td>\n",
       "      <td>0.809598</td>\n",
       "      <td>0.574894</td>\n",
       "      <td>0.702763</td>\n",
       "      <td>0.673937</td>\n",
       "      <td>0.587965</td>\n",
       "      <td>0.686721</td>\n",
       "      <td>0.500178</td>\n",
       "      <td>0.725187</td>\n",
       "      <td>...</td>\n",
       "      <td>0.420321</td>\n",
       "      <td>0.606334</td>\n",
       "      <td>0.221358</td>\n",
       "      <td>0.481621</td>\n",
       "      <td>0.250754</td>\n",
       "      <td>0.400453</td>\n",
       "      <td>0.279593</td>\n",
       "      <td>0.331679</td>\n",
       "      <td>0.306381</td>\n",
       "      <td>1</td>\n",
       "    </tr>\n",
       "  </tbody>\n",
       "</table>\n",
       "<p>5 rows × 43 columns</p>\n",
       "</div>"
      ],
      "text/plain": [
       "         1x        1y        2x        2y        3x        3y        4x  \\\n",
       "0  0.622052  0.012588  0.648961  0.213876  0.648076  0.398597  0.633459   \n",
       "1  0.917708  0.638511  0.866453  0.403034  0.756484  0.282239  0.632590   \n",
       "2  0.893933  0.591824  0.754646  0.817506  0.611733  0.849150  0.500097   \n",
       "3  0.959779  0.602379  0.903449  0.817890  0.780894  0.903157  0.660598   \n",
       "4  0.846137  0.352476  0.809598  0.574894  0.702763  0.673937  0.587965   \n",
       "\n",
       "         4y        5x        5y  ...       17y       18x       18y       19x  \\\n",
       "0  0.589315  0.639048  0.751942  ...  0.272643  0.290899 -0.028862  0.149719   \n",
       "1  0.262395  0.540806  0.291267  ...  0.599142  0.668052  0.773703  0.528159   \n",
       "2  0.771767  0.434114  0.700591  ...  0.349713  0.621407  0.310627  0.474501   \n",
       "3  0.871171  0.605007  0.811084  ...  0.526375  0.709163  0.408857  0.577349   \n",
       "4  0.686721  0.500178  0.725187  ...  0.420321  0.606334  0.221358  0.481621   \n",
       "\n",
       "        19y       20x       20y       21x       21y  target  \n",
       "0 -0.033415  0.059194 -0.028786 -0.020457 -0.019212       1  \n",
       "1  0.740041  0.445862  0.720120  0.379078  0.701475       1  \n",
       "2  0.280082  0.382786  0.268786  0.304154  0.250954       1  \n",
       "3  0.414860  0.494554  0.426942  0.427810  0.433055       1  \n",
       "4  0.250754  0.400453  0.279593  0.331679  0.306381       1  \n",
       "\n",
       "[5 rows x 43 columns]"
      ]
     },
     "execution_count": 7,
     "metadata": {},
     "output_type": "execute_result"
    }
   ],
   "source": [
    "paper_df.head()"
   ]
  },
  {
   "cell_type": "code",
   "execution_count": 10,
   "metadata": {},
   "outputs": [],
   "source": [
    "paper_df.to_csv('../csv/paper_df.csv', index=False)"
   ]
  }
 ],
 "metadata": {
  "kernelspec": {
   "display_name": "Python 3.10.6 64-bit ('chifoumy')",
   "language": "python",
   "name": "python3"
  },
  "language_info": {
   "codemirror_mode": {
    "name": "ipython",
    "version": 3
   },
   "file_extension": ".py",
   "mimetype": "text/x-python",
   "name": "python",
   "nbconvert_exporter": "python",
   "pygments_lexer": "ipython3",
   "version": "3.10.6"
  },
  "orig_nbformat": 4,
  "vscode": {
   "interpreter": {
    "hash": "f1ec65ce834c719475667583cc042811bd097a4010e12d8681d032555d01b54a"
   }
  }
 },
 "nbformat": 4,
 "nbformat_minor": 2
}
