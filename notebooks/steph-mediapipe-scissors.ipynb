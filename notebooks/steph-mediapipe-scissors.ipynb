{
 "cells": [
  {
   "cell_type": "code",
   "execution_count": 20,
   "metadata": {},
   "outputs": [],
   "source": [
    "import os\n",
    "import cv2\n",
    "import mediapipe as mp\n",
    "import pandas as pd"
   ]
  },
  {
   "cell_type": "code",
   "execution_count": 19,
   "metadata": {},
   "outputs": [
    {
     "data": {
      "text/plain": [
       "750"
      ]
     },
     "execution_count": 19,
     "metadata": {},
     "output_type": "execute_result"
    }
   ],
   "source": [
    "path = '../raw_data/scissors/'\n",
    "scissors_image_files = []\n",
    "\n",
    "for filename in os.listdir(path):\n",
    "    f = os.path.join(path, filename)\n",
    "    if os.path.isfile(f):\n",
    "        scissors_image_files.append(f)\n",
    "len(scissors_image_files)"
   ]
  },
  {
   "cell_type": "code",
   "execution_count": 15,
   "metadata": {},
   "outputs": [],
   "source": [
    "mp_hands = mp.solutions.hands\n",
    "hands_list = []\n",
    "\n",
    "with mp_hands.Hands(static_image_mode=True,\n",
    "                    max_num_hands=2,\n",
    "                    min_detection_confidence=0.5) as hands:\n",
    "    for idx, file in enumerate(scissors_image_files):\n",
    "\n",
    "        # image = cv2.flip(cv2.imread(file), 1)\n",
    "        image = cv2.imread(file)\n",
    "        results = hands.process(cv2.cvtColor(image, cv2.COLOR_BGR2RGB))\n",
    "\n",
    "        if not results.multi_hand_landmarks:\n",
    "            continue\n",
    "\n",
    "        for hand_landmarks in results.multi_hand_landmarks:\n",
    "            fingers = {}\n",
    "            for i, finger in enumerate(hand_landmarks.landmark, start=1):\n",
    "                fingers[f'{i}x'] = (finger.x)\n",
    "                fingers[f'{i}y'] = (finger.y)\n",
    "            hands_list.append(fingers)"
   ]
  },
  {
   "cell_type": "code",
   "execution_count": 17,
   "metadata": {},
   "outputs": [
    {
     "data": {
      "text/plain": [
       "(680, 43)"
      ]
     },
     "execution_count": 17,
     "metadata": {},
     "output_type": "execute_result"
    }
   ],
   "source": [
    "scissors_df = pd.DataFrame(hands_list)\n",
    "scissors_df['target'] = 2\n",
    "scissors_df.shape"
   ]
  },
  {
   "cell_type": "code",
   "execution_count": 18,
   "metadata": {},
   "outputs": [
    {
     "data": {
      "text/html": [
       "<div>\n",
       "<style scoped>\n",
       "    .dataframe tbody tr th:only-of-type {\n",
       "        vertical-align: middle;\n",
       "    }\n",
       "\n",
       "    .dataframe tbody tr th {\n",
       "        vertical-align: top;\n",
       "    }\n",
       "\n",
       "    .dataframe thead th {\n",
       "        text-align: right;\n",
       "    }\n",
       "</style>\n",
       "<table border=\"1\" class=\"dataframe\">\n",
       "  <thead>\n",
       "    <tr style=\"text-align: right;\">\n",
       "      <th></th>\n",
       "      <th>1x</th>\n",
       "      <th>1y</th>\n",
       "      <th>2x</th>\n",
       "      <th>2y</th>\n",
       "      <th>3x</th>\n",
       "      <th>3y</th>\n",
       "      <th>4x</th>\n",
       "      <th>4y</th>\n",
       "      <th>5x</th>\n",
       "      <th>5y</th>\n",
       "      <th>...</th>\n",
       "      <th>17y</th>\n",
       "      <th>18x</th>\n",
       "      <th>18y</th>\n",
       "      <th>19x</th>\n",
       "      <th>19y</th>\n",
       "      <th>20x</th>\n",
       "      <th>20y</th>\n",
       "      <th>21x</th>\n",
       "      <th>21y</th>\n",
       "      <th>target</th>\n",
       "    </tr>\n",
       "  </thead>\n",
       "  <tbody>\n",
       "    <tr>\n",
       "      <th>0</th>\n",
       "      <td>0.972548</td>\n",
       "      <td>0.503541</td>\n",
       "      <td>0.888238</td>\n",
       "      <td>0.670902</td>\n",
       "      <td>0.766331</td>\n",
       "      <td>0.698617</td>\n",
       "      <td>0.688033</td>\n",
       "      <td>0.595593</td>\n",
       "      <td>0.653848</td>\n",
       "      <td>0.487888</td>\n",
       "      <td>...</td>\n",
       "      <td>0.439262</td>\n",
       "      <td>0.785297</td>\n",
       "      <td>0.249039</td>\n",
       "      <td>0.682782</td>\n",
       "      <td>0.291712</td>\n",
       "      <td>0.707206</td>\n",
       "      <td>0.337388</td>\n",
       "      <td>0.752084</td>\n",
       "      <td>0.343444</td>\n",
       "      <td>2</td>\n",
       "    </tr>\n",
       "    <tr>\n",
       "      <th>1</th>\n",
       "      <td>0.883314</td>\n",
       "      <td>0.585556</td>\n",
       "      <td>0.758897</td>\n",
       "      <td>0.738274</td>\n",
       "      <td>0.619175</td>\n",
       "      <td>0.731899</td>\n",
       "      <td>0.540562</td>\n",
       "      <td>0.609661</td>\n",
       "      <td>0.514005</td>\n",
       "      <td>0.497798</td>\n",
       "      <td>...</td>\n",
       "      <td>0.516720</td>\n",
       "      <td>0.639559</td>\n",
       "      <td>0.312580</td>\n",
       "      <td>0.554995</td>\n",
       "      <td>0.351059</td>\n",
       "      <td>0.577250</td>\n",
       "      <td>0.405897</td>\n",
       "      <td>0.619907</td>\n",
       "      <td>0.421913</td>\n",
       "      <td>2</td>\n",
       "    </tr>\n",
       "    <tr>\n",
       "      <th>2</th>\n",
       "      <td>0.910765</td>\n",
       "      <td>0.598994</td>\n",
       "      <td>0.836391</td>\n",
       "      <td>0.407034</td>\n",
       "      <td>0.722001</td>\n",
       "      <td>0.359720</td>\n",
       "      <td>0.642534</td>\n",
       "      <td>0.440818</td>\n",
       "      <td>0.602230</td>\n",
       "      <td>0.552093</td>\n",
       "      <td>...</td>\n",
       "      <td>0.562702</td>\n",
       "      <td>0.660576</td>\n",
       "      <td>0.772937</td>\n",
       "      <td>0.619692</td>\n",
       "      <td>0.700938</td>\n",
       "      <td>0.657051</td>\n",
       "      <td>0.666762</td>\n",
       "      <td>0.697424</td>\n",
       "      <td>0.658073</td>\n",
       "      <td>2</td>\n",
       "    </tr>\n",
       "    <tr>\n",
       "      <th>3</th>\n",
       "      <td>0.942804</td>\n",
       "      <td>0.452263</td>\n",
       "      <td>0.843116</td>\n",
       "      <td>0.593405</td>\n",
       "      <td>0.718336</td>\n",
       "      <td>0.579437</td>\n",
       "      <td>0.654337</td>\n",
       "      <td>0.451111</td>\n",
       "      <td>0.632054</td>\n",
       "      <td>0.341280</td>\n",
       "      <td>...</td>\n",
       "      <td>0.299582</td>\n",
       "      <td>0.769897</td>\n",
       "      <td>0.152735</td>\n",
       "      <td>0.655527</td>\n",
       "      <td>0.150431</td>\n",
       "      <td>0.675466</td>\n",
       "      <td>0.203113</td>\n",
       "      <td>0.716827</td>\n",
       "      <td>0.225120</td>\n",
       "      <td>2</td>\n",
       "    </tr>\n",
       "    <tr>\n",
       "      <th>4</th>\n",
       "      <td>0.916129</td>\n",
       "      <td>0.525466</td>\n",
       "      <td>0.825934</td>\n",
       "      <td>0.410975</td>\n",
       "      <td>0.722051</td>\n",
       "      <td>0.406688</td>\n",
       "      <td>0.660051</td>\n",
       "      <td>0.489497</td>\n",
       "      <td>0.622740</td>\n",
       "      <td>0.590304</td>\n",
       "      <td>...</td>\n",
       "      <td>0.635309</td>\n",
       "      <td>0.720663</td>\n",
       "      <td>0.833326</td>\n",
       "      <td>0.715275</td>\n",
       "      <td>0.790811</td>\n",
       "      <td>0.755227</td>\n",
       "      <td>0.748631</td>\n",
       "      <td>0.783695</td>\n",
       "      <td>0.725269</td>\n",
       "      <td>2</td>\n",
       "    </tr>\n",
       "  </tbody>\n",
       "</table>\n",
       "<p>5 rows × 43 columns</p>\n",
       "</div>"
      ],
      "text/plain": [
       "         1x        1y        2x        2y        3x        3y        4x  \\\n",
       "0  0.972548  0.503541  0.888238  0.670902  0.766331  0.698617  0.688033   \n",
       "1  0.883314  0.585556  0.758897  0.738274  0.619175  0.731899  0.540562   \n",
       "2  0.910765  0.598994  0.836391  0.407034  0.722001  0.359720  0.642534   \n",
       "3  0.942804  0.452263  0.843116  0.593405  0.718336  0.579437  0.654337   \n",
       "4  0.916129  0.525466  0.825934  0.410975  0.722051  0.406688  0.660051   \n",
       "\n",
       "         4y        5x        5y  ...       17y       18x       18y       19x  \\\n",
       "0  0.595593  0.653848  0.487888  ...  0.439262  0.785297  0.249039  0.682782   \n",
       "1  0.609661  0.514005  0.497798  ...  0.516720  0.639559  0.312580  0.554995   \n",
       "2  0.440818  0.602230  0.552093  ...  0.562702  0.660576  0.772937  0.619692   \n",
       "3  0.451111  0.632054  0.341280  ...  0.299582  0.769897  0.152735  0.655527   \n",
       "4  0.489497  0.622740  0.590304  ...  0.635309  0.720663  0.833326  0.715275   \n",
       "\n",
       "        19y       20x       20y       21x       21y  target  \n",
       "0  0.291712  0.707206  0.337388  0.752084  0.343444       2  \n",
       "1  0.351059  0.577250  0.405897  0.619907  0.421913       2  \n",
       "2  0.700938  0.657051  0.666762  0.697424  0.658073       2  \n",
       "3  0.150431  0.675466  0.203113  0.716827  0.225120       2  \n",
       "4  0.790811  0.755227  0.748631  0.783695  0.725269       2  \n",
       "\n",
       "[5 rows x 43 columns]"
      ]
     },
     "execution_count": 18,
     "metadata": {},
     "output_type": "execute_result"
    }
   ],
   "source": [
    "scissors_df.head()"
   ]
  },
  {
   "cell_type": "code",
   "execution_count": 22,
   "metadata": {},
   "outputs": [],
   "source": [
    "scissors_df.to_csv('../csv/scissors_df.csv', index=False)"
   ]
  }
 ],
 "metadata": {
  "kernelspec": {
   "display_name": "Python 3.10.6 64-bit ('chifoumy')",
   "language": "python",
   "name": "python3"
  },
  "language_info": {
   "codemirror_mode": {
    "name": "ipython",
    "version": 3
   },
   "file_extension": ".py",
   "mimetype": "text/x-python",
   "name": "python",
   "nbconvert_exporter": "python",
   "pygments_lexer": "ipython3",
   "version": "3.10.6"
  },
  "orig_nbformat": 4,
  "vscode": {
   "interpreter": {
    "hash": "f1ec65ce834c719475667583cc042811bd097a4010e12d8681d032555d01b54a"
   }
  }
 },
 "nbformat": 4,
 "nbformat_minor": 2
}
