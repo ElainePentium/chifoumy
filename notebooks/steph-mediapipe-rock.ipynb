{
 "cells": [
  {
   "cell_type": "code",
   "execution_count": 2,
   "metadata": {},
   "outputs": [],
   "source": [
    "import os\n",
    "import cv2\n",
    "import mediapipe as mp\n",
    "import pandas as pd"
   ]
  },
  {
   "cell_type": "code",
   "execution_count": 3,
   "metadata": {},
   "outputs": [],
   "source": [
    "path = '../raw_data/rock/'\n",
    "rock_image_files = []\n",
    "\n",
    "for filename in os.listdir(path):\n",
    "    f = os.path.join(path, filename)\n",
    "    if os.path.isfile(f):\n",
    "        rock_image_files.append(f)"
   ]
  },
  {
   "cell_type": "code",
   "execution_count": 4,
   "metadata": {},
   "outputs": [
    {
     "data": {
      "text/plain": [
       "726"
      ]
     },
     "execution_count": 4,
     "metadata": {},
     "output_type": "execute_result"
    }
   ],
   "source": [
    "len(rock_image_files)"
   ]
  },
  {
   "cell_type": "code",
   "execution_count": 5,
   "metadata": {},
   "outputs": [
    {
     "name": "stderr",
     "output_type": "stream",
     "text": [
      "INFO: Created TensorFlow Lite XNNPACK delegate for CPU.\n"
     ]
    }
   ],
   "source": [
    "mp_hands = mp.solutions.hands\n",
    "hands_list = []\n",
    "\n",
    "with mp_hands.Hands(static_image_mode=True,\n",
    "                    max_num_hands=2,\n",
    "                    min_detection_confidence=0.5) as hands:\n",
    "    for idx, file in enumerate(rock_image_files):\n",
    "\n",
    "        # image = cv2.flip(cv2.imread(file), 1)\n",
    "        image = cv2.imread(file)\n",
    "        results = hands.process(cv2.cvtColor(image, cv2.COLOR_BGR2RGB))\n",
    "\n",
    "        if not results.multi_hand_landmarks:\n",
    "            continue\n",
    "\n",
    "        for hand_landmarks in results.multi_hand_landmarks:\n",
    "            fingers = {}\n",
    "            for i, finger in enumerate(hand_landmarks.landmark, start=1):\n",
    "                fingers[f'{i}x'] = (finger.x)\n",
    "                fingers[f'{i}y'] = (finger.y)\n",
    "            hands_list.append(fingers)"
   ]
  },
  {
   "cell_type": "code",
   "execution_count": 6,
   "metadata": {},
   "outputs": [
    {
     "data": {
      "text/plain": [
       "(670, 43)"
      ]
     },
     "execution_count": 6,
     "metadata": {},
     "output_type": "execute_result"
    }
   ],
   "source": [
    "rock_df = pd.DataFrame(hands_list)\n",
    "rock_df['target'] = 0\n",
    "rock_df.shape"
   ]
  },
  {
   "cell_type": "code",
   "execution_count": 7,
   "metadata": {},
   "outputs": [
    {
     "data": {
      "text/html": [
       "<div>\n",
       "<style scoped>\n",
       "    .dataframe tbody tr th:only-of-type {\n",
       "        vertical-align: middle;\n",
       "    }\n",
       "\n",
       "    .dataframe tbody tr th {\n",
       "        vertical-align: top;\n",
       "    }\n",
       "\n",
       "    .dataframe thead th {\n",
       "        text-align: right;\n",
       "    }\n",
       "</style>\n",
       "<table border=\"1\" class=\"dataframe\">\n",
       "  <thead>\n",
       "    <tr style=\"text-align: right;\">\n",
       "      <th></th>\n",
       "      <th>1x</th>\n",
       "      <th>1y</th>\n",
       "      <th>2x</th>\n",
       "      <th>2y</th>\n",
       "      <th>3x</th>\n",
       "      <th>3y</th>\n",
       "      <th>4x</th>\n",
       "      <th>4y</th>\n",
       "      <th>5x</th>\n",
       "      <th>5y</th>\n",
       "      <th>...</th>\n",
       "      <th>17y</th>\n",
       "      <th>18x</th>\n",
       "      <th>18y</th>\n",
       "      <th>19x</th>\n",
       "      <th>19y</th>\n",
       "      <th>20x</th>\n",
       "      <th>20y</th>\n",
       "      <th>21x</th>\n",
       "      <th>21y</th>\n",
       "      <th>target</th>\n",
       "    </tr>\n",
       "  </thead>\n",
       "  <tbody>\n",
       "    <tr>\n",
       "      <th>0</th>\n",
       "      <td>0.742721</td>\n",
       "      <td>0.331622</td>\n",
       "      <td>0.614224</td>\n",
       "      <td>0.563904</td>\n",
       "      <td>0.478486</td>\n",
       "      <td>0.609329</td>\n",
       "      <td>0.402627</td>\n",
       "      <td>0.525275</td>\n",
       "      <td>0.386561</td>\n",
       "      <td>0.406998</td>\n",
       "      <td>...</td>\n",
       "      <td>0.327574</td>\n",
       "      <td>0.417195</td>\n",
       "      <td>0.135793</td>\n",
       "      <td>0.392409</td>\n",
       "      <td>0.211523</td>\n",
       "      <td>0.431528</td>\n",
       "      <td>0.244109</td>\n",
       "      <td>0.475566</td>\n",
       "      <td>0.242198</td>\n",
       "      <td>0</td>\n",
       "    </tr>\n",
       "    <tr>\n",
       "      <th>1</th>\n",
       "      <td>0.919101</td>\n",
       "      <td>0.755081</td>\n",
       "      <td>0.885544</td>\n",
       "      <td>0.508022</td>\n",
       "      <td>0.787720</td>\n",
       "      <td>0.349530</td>\n",
       "      <td>0.669979</td>\n",
       "      <td>0.288946</td>\n",
       "      <td>0.599725</td>\n",
       "      <td>0.346444</td>\n",
       "      <td>...</td>\n",
       "      <td>0.632169</td>\n",
       "      <td>0.646165</td>\n",
       "      <td>0.821198</td>\n",
       "      <td>0.581794</td>\n",
       "      <td>0.716809</td>\n",
       "      <td>0.619187</td>\n",
       "      <td>0.709276</td>\n",
       "      <td>0.655795</td>\n",
       "      <td>0.736217</td>\n",
       "      <td>0</td>\n",
       "    </tr>\n",
       "    <tr>\n",
       "      <th>2</th>\n",
       "      <td>0.819575</td>\n",
       "      <td>0.423356</td>\n",
       "      <td>0.702106</td>\n",
       "      <td>0.207600</td>\n",
       "      <td>0.570862</td>\n",
       "      <td>0.139804</td>\n",
       "      <td>0.468272</td>\n",
       "      <td>0.172917</td>\n",
       "      <td>0.436252</td>\n",
       "      <td>0.264447</td>\n",
       "      <td>...</td>\n",
       "      <td>0.460534</td>\n",
       "      <td>0.530593</td>\n",
       "      <td>0.628670</td>\n",
       "      <td>0.452767</td>\n",
       "      <td>0.585594</td>\n",
       "      <td>0.490761</td>\n",
       "      <td>0.566222</td>\n",
       "      <td>0.534528</td>\n",
       "      <td>0.566381</td>\n",
       "      <td>0</td>\n",
       "    </tr>\n",
       "    <tr>\n",
       "      <th>3</th>\n",
       "      <td>0.942459</td>\n",
       "      <td>0.287848</td>\n",
       "      <td>0.893455</td>\n",
       "      <td>0.514780</td>\n",
       "      <td>0.792436</td>\n",
       "      <td>0.652192</td>\n",
       "      <td>0.676582</td>\n",
       "      <td>0.661569</td>\n",
       "      <td>0.613856</td>\n",
       "      <td>0.601767</td>\n",
       "      <td>...</td>\n",
       "      <td>0.355001</td>\n",
       "      <td>0.686084</td>\n",
       "      <td>0.173130</td>\n",
       "      <td>0.615379</td>\n",
       "      <td>0.257791</td>\n",
       "      <td>0.649925</td>\n",
       "      <td>0.273106</td>\n",
       "      <td>0.689175</td>\n",
       "      <td>0.256481</td>\n",
       "      <td>0</td>\n",
       "    </tr>\n",
       "    <tr>\n",
       "      <th>4</th>\n",
       "      <td>0.877304</td>\n",
       "      <td>0.537010</td>\n",
       "      <td>0.783896</td>\n",
       "      <td>0.783862</td>\n",
       "      <td>0.646503</td>\n",
       "      <td>0.908662</td>\n",
       "      <td>0.497583</td>\n",
       "      <td>0.940886</td>\n",
       "      <td>0.403019</td>\n",
       "      <td>0.883631</td>\n",
       "      <td>...</td>\n",
       "      <td>0.551203</td>\n",
       "      <td>0.553861</td>\n",
       "      <td>0.359409</td>\n",
       "      <td>0.525730</td>\n",
       "      <td>0.411481</td>\n",
       "      <td>0.567388</td>\n",
       "      <td>0.437996</td>\n",
       "      <td>0.608758</td>\n",
       "      <td>0.443855</td>\n",
       "      <td>0</td>\n",
       "    </tr>\n",
       "  </tbody>\n",
       "</table>\n",
       "<p>5 rows × 43 columns</p>\n",
       "</div>"
      ],
      "text/plain": [
       "         1x        1y        2x        2y        3x        3y        4x  \\\n",
       "0  0.742721  0.331622  0.614224  0.563904  0.478486  0.609329  0.402627   \n",
       "1  0.919101  0.755081  0.885544  0.508022  0.787720  0.349530  0.669979   \n",
       "2  0.819575  0.423356  0.702106  0.207600  0.570862  0.139804  0.468272   \n",
       "3  0.942459  0.287848  0.893455  0.514780  0.792436  0.652192  0.676582   \n",
       "4  0.877304  0.537010  0.783896  0.783862  0.646503  0.908662  0.497583   \n",
       "\n",
       "         4y        5x        5y  ...       17y       18x       18y       19x  \\\n",
       "0  0.525275  0.386561  0.406998  ...  0.327574  0.417195  0.135793  0.392409   \n",
       "1  0.288946  0.599725  0.346444  ...  0.632169  0.646165  0.821198  0.581794   \n",
       "2  0.172917  0.436252  0.264447  ...  0.460534  0.530593  0.628670  0.452767   \n",
       "3  0.661569  0.613856  0.601767  ...  0.355001  0.686084  0.173130  0.615379   \n",
       "4  0.940886  0.403019  0.883631  ...  0.551203  0.553861  0.359409  0.525730   \n",
       "\n",
       "        19y       20x       20y       21x       21y  target  \n",
       "0  0.211523  0.431528  0.244109  0.475566  0.242198       0  \n",
       "1  0.716809  0.619187  0.709276  0.655795  0.736217       0  \n",
       "2  0.585594  0.490761  0.566222  0.534528  0.566381       0  \n",
       "3  0.257791  0.649925  0.273106  0.689175  0.256481       0  \n",
       "4  0.411481  0.567388  0.437996  0.608758  0.443855       0  \n",
       "\n",
       "[5 rows x 43 columns]"
      ]
     },
     "execution_count": 7,
     "metadata": {},
     "output_type": "execute_result"
    }
   ],
   "source": [
    "rock_df.head()"
   ]
  },
  {
   "cell_type": "code",
   "execution_count": 8,
   "metadata": {},
   "outputs": [],
   "source": [
    "rock_df.to_csv('../csv/rock_df.csv', index=False)"
   ]
  }
 ],
 "metadata": {
  "kernelspec": {
   "display_name": "Python 3.10.6 64-bit ('chifoumy')",
   "language": "python",
   "name": "python3"
  },
  "language_info": {
   "codemirror_mode": {
    "name": "ipython",
    "version": 3
   },
   "file_extension": ".py",
   "mimetype": "text/x-python",
   "name": "python",
   "nbconvert_exporter": "python",
   "pygments_lexer": "ipython3",
   "version": "3.10.6"
  },
  "orig_nbformat": 4,
  "vscode": {
   "interpreter": {
    "hash": "f1ec65ce834c719475667583cc042811bd097a4010e12d8681d032555d01b54a"
   }
  }
 },
 "nbformat": 4,
 "nbformat_minor": 2
}
